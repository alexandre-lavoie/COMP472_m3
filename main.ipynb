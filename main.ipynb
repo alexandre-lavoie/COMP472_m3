{
  "cells": [
    {
      "cell_type": "markdown",
      "metadata": {
        "id": "sLJdJ7ZXLz6n"
      },
      "source": [
        "# COMP 472 - MP3\n",
        "\n",
        "JustAlex\n",
        "- Alexandre Lavoie (40129457)"
      ]
    },
    {
      "cell_type": "markdown",
      "metadata": {},
      "source": [
        "This file covers experiments and data collection."
      ]
    },
    {
      "cell_type": "markdown",
      "metadata": {
        "id": "h5TWOoP-LxX9"
      },
      "source": [
        "## Imports"
      ]
    },
    {
      "cell_type": "code",
      "execution_count": 4,
      "metadata": {
        "id": "TOUGYvTd6C-p"
      },
      "outputs": [],
      "source": [
        "import gensim.downloader\n",
        "import pandas\n",
        "import random\n",
        "import glob\n",
        "import os.path"
      ]
    },
    {
      "cell_type": "markdown",
      "metadata": {
        "id": "dQPjG3E2Lk6_"
      },
      "source": [
        "## Synoyms Dataset"
      ]
    },
    {
      "cell_type": "code",
      "execution_count": null,
      "metadata": {
        "colab": {
          "base_uri": "https://localhost:8080/"
        },
        "id": "qZSNxHk46sZN",
        "outputId": "a6d8366c-269d-428e-b836-d8c1a4917938"
      },
      "outputs": [
        {
          "name": "stdout",
          "output_type": "stream",
          "text": [
            "       question        answer  ...              2                3\n",
            "0    enormously  tremendously  ...   tremendously        decidedly\n",
            "1    provisions  stipulations  ...  jurisdictions  interpretations\n",
            "2   haphazardly      randomly  ...       randomly         linearly\n",
            "3     prominent   conspicuous  ...     mysterious      conspicuous\n",
            "4        zenith      pinnacle  ...         outset          decline\n",
            "..          ...           ...  ...            ...              ...\n",
            "75      fashion        manner  ...          craze           manner\n",
            "76     marketed          sold  ...      sweetened          diluted\n",
            "77       bigger        larger  ...         larger           better\n",
            "78        roots       origins  ...           cure         function\n",
            "79     normally    ordinarily  ...    permanently     periodically\n",
            "\n",
            "[80 rows x 6 columns]\n"
          ]
        }
      ],
      "source": [
        "synonyms = pandas.read_csv(\"synonyms.csv\")\n",
        "print(synonyms)"
      ]
    },
    {
      "cell_type": "markdown",
      "metadata": {
        "id": "B1jBBZ_UM8Gr"
      },
      "source": [
        "## Models"
      ]
    },
    {
      "cell_type": "code",
      "execution_count": null,
      "metadata": {
        "colab": {
          "base_uri": "https://localhost:8080/"
        },
        "id": "MxRc99fpOC2c",
        "outputId": "5d058263-cc24-4a09-9ea2-d3f3a63930b9"
      },
      "outputs": [
        {
          "name": "stdout",
          "output_type": "stream",
          "text": [
            "fasttext-wiki-news-subwords-300\n",
            "conceptnet-numberbatch-17-06-300\n",
            "word2vec-ruscorpora-300\n",
            "word2vec-google-news-300\n",
            "glove-wiki-gigaword-50\n",
            "glove-wiki-gigaword-100\n",
            "glove-wiki-gigaword-200\n",
            "glove-wiki-gigaword-300\n",
            "glove-twitter-25\n",
            "glove-twitter-50\n",
            "glove-twitter-100\n",
            "glove-twitter-200\n",
            "__testing_word2vec-matrix-synopsis\n"
          ]
        }
      ],
      "source": [
        "for model in gensim.downloader.info()['models'].keys():\n",
        "  print(model)"
      ]
    },
    {
      "cell_type": "code",
      "execution_count": null,
      "metadata": {
        "id": "xOlS4HhbMMbR"
      },
      "outputs": [],
      "source": [
        "def get_dataframe(model):\n",
        "  csv = {\"question\": [], \"answer\": [], \"prediction\": [], \"label\": []}\n",
        "\n",
        "  for question, answer, o1, o2, o3, o4 in zip(synonyms[\"question\"], synonyms[\"answer\"], synonyms[\"0\"], synonyms[\"1\"], synonyms[\"2\"], synonyms[\"3\"]):\n",
        "    options = [o1, o2, o3, o4]\n",
        "    \n",
        "    if question in model and any(option in model for option in options):  \n",
        "      sorted_options = list(sorted(options, key=lambda option: model.similarity(question, option) if option in model else -1))\n",
        "      prediction = sorted_options[-1]\n",
        "      if prediction == answer:\n",
        "        label = \"correct\"\n",
        "      else:\n",
        "        label = \"wrong\"\n",
        "    else:\n",
        "      prediction = random.choice(options)\n",
        "      label = \"guess\"\n",
        "\n",
        "    csv[\"question\"].append(question)\n",
        "    csv[\"answer\"].append(answer)\n",
        "    csv[\"prediction\"].append(prediction)\n",
        "    csv[\"label\"].append(label)\n",
        "\n",
        "  return pandas.DataFrame(data=csv)"
      ]
    },
    {
      "cell_type": "markdown",
      "metadata": {
        "id": "u8i9qd9NLqlw"
      },
      "source": [
        "### Word2Vec Google News 300"
      ]
    },
    {
      "cell_type": "code",
      "execution_count": null,
      "metadata": {
        "id": "qfUE_m5t6KJQ"
      },
      "outputs": [],
      "source": [
        "word2vec_google_news_300_model = gensim.downloader.load(\"word2vec-google-news-300\")"
      ]
    },
    {
      "cell_type": "code",
      "execution_count": null,
      "metadata": {
        "colab": {
          "base_uri": "https://localhost:8080/"
        },
        "id": "WFnn5gqc-Rn_",
        "outputId": "0a941108-80b4-4277-d77e-a95249ff94e0"
      },
      "outputs": [
        {
          "name": "stdout",
          "output_type": "stream",
          "text": [
            "       question        answer    prediction    label\n",
            "0    enormously  tremendously  tremendously  correct\n",
            "1    provisions  stipulations  stipulations  correct\n",
            "2   haphazardly      randomly      randomly  correct\n",
            "3     prominent   conspicuous   conspicuous  correct\n",
            "4        zenith      pinnacle      pinnacle  correct\n",
            "..          ...           ...           ...      ...\n",
            "75      fashion        manner        manner  correct\n",
            "76     marketed          sold          sold  correct\n",
            "77       bigger        larger        larger  correct\n",
            "78        roots       origins       origins  correct\n",
            "79     normally    ordinarily    ordinarily  correct\n",
            "\n",
            "[80 rows x 4 columns]\n"
          ]
        }
      ],
      "source": [
        "word2vec_google_news_300 = get_dataframe(word2vec_google_news_300_model)\n",
        "word2vec_google_news_300.to_csv(\"word2vec-google-news-300-details.csv\", index=False)\n",
        "print(word2vec_google_news_300)"
      ]
    },
    {
      "cell_type": "markdown",
      "metadata": {
        "id": "XdKcWtpoOf6w"
      },
      "source": [
        "### Glove Wiki Gigaword 300"
      ]
    },
    {
      "cell_type": "code",
      "execution_count": null,
      "metadata": {
        "colab": {
          "base_uri": "https://localhost:8080/"
        },
        "id": "XawQGyM9OjHk",
        "outputId": "6ff47bc6-df8f-42a3-d514-06b8b5a3913e"
      },
      "outputs": [
        {
          "name": "stdout",
          "output_type": "stream",
          "text": [
            "[==================================================] 100.0% 376.1/376.1MB downloaded\n"
          ]
        }
      ],
      "source": [
        "glove_wiki_gigaword_300_model = gensim.downloader.load(\"glove-wiki-gigaword-300\")"
      ]
    },
    {
      "cell_type": "code",
      "execution_count": null,
      "metadata": {
        "colab": {
          "base_uri": "https://localhost:8080/"
        },
        "id": "d25fOQYAOnTs",
        "outputId": "182ac7ac-e19b-461b-8fa8-222be1e78799"
      },
      "outputs": [
        {
          "name": "stdout",
          "output_type": "stream",
          "text": [
            "       question        answer    prediction    label\n",
            "0    enormously  tremendously  tremendously  correct\n",
            "1    provisions  stipulations  stipulations  correct\n",
            "2   haphazardly      randomly      randomly  correct\n",
            "3     prominent   conspicuous   conspicuous  correct\n",
            "4        zenith      pinnacle      pinnacle  correct\n",
            "..          ...           ...           ...      ...\n",
            "75      fashion        manner        manner  correct\n",
            "76     marketed          sold          sold  correct\n",
            "77       bigger        larger        larger  correct\n",
            "78        roots       origins       origins  correct\n",
            "79     normally    ordinarily    ordinarily  correct\n",
            "\n",
            "[80 rows x 4 columns]\n"
          ]
        }
      ],
      "source": [
        "glove_wiki_gigaword_300 = get_dataframe(glove_wiki_gigaword_300_model)\n",
        "glove_wiki_gigaword_300.to_csv(\"glove-wiki-gigaword-300-details.csv\", index=False)\n",
        "print(glove_wiki_gigaword_300)"
      ]
    },
    {
      "cell_type": "markdown",
      "metadata": {
        "id": "Pk3JIe90S6U7"
      },
      "source": [
        "### Fasttext Wiki News Subwords 300"
      ]
    },
    {
      "cell_type": "code",
      "execution_count": null,
      "metadata": {
        "colab": {
          "base_uri": "https://localhost:8080/"
        },
        "id": "eeS2EX4FS5rO",
        "outputId": "e25acdf1-ae18-4e02-b8ee-de22c7d77736"
      },
      "outputs": [
        {
          "name": "stdout",
          "output_type": "stream",
          "text": [
            "[==================================================] 100.0% 958.5/958.4MB downloaded\n"
          ]
        }
      ],
      "source": [
        "fasttext_wiki_news_subwords_300_model = gensim.downloader.load(\"fasttext-wiki-news-subwords-300\")"
      ]
    },
    {
      "cell_type": "code",
      "execution_count": null,
      "metadata": {
        "colab": {
          "base_uri": "https://localhost:8080/"
        },
        "id": "kxywwYbITE2t",
        "outputId": "111ac39e-f5e5-4b29-c9f5-17e972288525"
      },
      "outputs": [
        {
          "name": "stdout",
          "output_type": "stream",
          "text": [
            "       question        answer    prediction    label\n",
            "0    enormously  tremendously  tremendously  correct\n",
            "1    provisions  stipulations  stipulations  correct\n",
            "2   haphazardly      randomly      randomly  correct\n",
            "3     prominent   conspicuous   conspicuous  correct\n",
            "4        zenith      pinnacle      pinnacle  correct\n",
            "..          ...           ...           ...      ...\n",
            "75      fashion        manner        manner  correct\n",
            "76     marketed          sold          sold  correct\n",
            "77       bigger        larger        larger  correct\n",
            "78        roots       origins       origins  correct\n",
            "79     normally    ordinarily    ordinarily  correct\n",
            "\n",
            "[80 rows x 4 columns]\n"
          ]
        }
      ],
      "source": [
        "fasttext_wiki_news_subwords_300 = get_dataframe(fasttext_wiki_news_subwords_300_model)\n",
        "fasttext_wiki_news_subwords_300.to_csv(\"fasttext-wiki-news-subwords-300-details.csv\", index=False)\n",
        "print(fasttext_wiki_news_subwords_300)"
      ]
    },
    {
      "cell_type": "markdown",
      "metadata": {
        "id": "Y2mqBzUcToaE"
      },
      "source": [
        "### Conceptnet Numberbatch 17-06 300\n",
        "\n",
        "Not sure what this model is, but does not work on model."
      ]
    },
    {
      "cell_type": "code",
      "execution_count": null,
      "metadata": {
        "id": "lpC8Ta6RTy-A"
      },
      "outputs": [],
      "source": [
        "conceptnet_numberbatch_17_06_300_model = gensim.downloader.load(\"conceptnet-numberbatch-17-06-300\")"
      ]
    },
    {
      "cell_type": "code",
      "execution_count": null,
      "metadata": {
        "colab": {
          "base_uri": "https://localhost:8080/"
        },
        "id": "vWzH0heNT3Pq",
        "outputId": "f5557853-05e2-4f8e-b86a-b1992af96ba3"
      },
      "outputs": [
        {
          "name": "stdout",
          "output_type": "stream",
          "text": [
            "       question        answer     prediction  label\n",
            "0    enormously  tremendously      decidedly  guess\n",
            "1    provisions  stipulations  jurisdictions  guess\n",
            "2   haphazardly      randomly       linearly  guess\n",
            "3     prominent   conspicuous     mysterious  guess\n",
            "4        zenith      pinnacle       pinnacle  guess\n",
            "..          ...           ...            ...    ...\n",
            "75      fashion        manner         fathom  guess\n",
            "76     marketed          sold           sold  guess\n",
            "77       bigger        larger       steadier  guess\n",
            "78        roots       origins           cure  guess\n",
            "79     normally    ordinarily    permanently  guess\n",
            "\n",
            "[80 rows x 4 columns]\n"
          ]
        }
      ],
      "source": [
        "conceptnet_numberbatch_17_06_300 = get_dataframe(conceptnet_numberbatch_17_06_300_model)\n",
        "conceptnet_numberbatch_17_06_300.to_csv(\"conceptnet-numberbatch-17-06-300-details.csv\", index=False)\n",
        "print(conceptnet_numberbatch_17_06_300)"
      ]
    },
    {
      "cell_type": "markdown",
      "metadata": {
        "id": "xvoRpUolUfHi"
      },
      "source": [
        "### Glove Twitter 200"
      ]
    },
    {
      "cell_type": "code",
      "execution_count": null,
      "metadata": {
        "id": "bI4gXS1uU5mT"
      },
      "outputs": [],
      "source": [
        "glove_twitter_200_model = gensim.downloader.load(\"glove-twitter-200\")"
      ]
    },
    {
      "cell_type": "code",
      "execution_count": null,
      "metadata": {
        "colab": {
          "base_uri": "https://localhost:8080/"
        },
        "id": "E0x8zRGPU9cv",
        "outputId": "7626e210-9743-478b-817d-9c0c6d8c57d0"
      },
      "outputs": [
        {
          "name": "stdout",
          "output_type": "stream",
          "text": [
            "       question        answer     prediction    label\n",
            "0    enormously  tremendously   tremendously  correct\n",
            "1    provisions  stipulations  jurisdictions    wrong\n",
            "2   haphazardly      randomly        densely    wrong\n",
            "3     prominent   conspicuous     mysterious    wrong\n",
            "4        zenith      pinnacle       pinnacle  correct\n",
            "..          ...           ...            ...      ...\n",
            "75      fashion        manner          craze    wrong\n",
            "76     marketed          sold           sold  correct\n",
            "77       bigger        larger         larger  correct\n",
            "78        roots       origins        origins  correct\n",
            "79     normally    ordinarily    permanently    wrong\n",
            "\n",
            "[80 rows x 4 columns]\n"
          ]
        }
      ],
      "source": [
        "glove_twitter_200 = get_dataframe(glove_twitter_200_model)\n",
        "glove_twitter_200.to_csv(\"glove-twitter-200-details.csv\", index=False)\n",
        "print(glove_twitter_200)"
      ]
    },
    {
      "cell_type": "markdown",
      "metadata": {
        "id": "gEXOR5aAslHA"
      },
      "source": [
        "### Glove Twitter 100"
      ]
    },
    {
      "cell_type": "code",
      "execution_count": null,
      "metadata": {
        "colab": {
          "base_uri": "https://localhost:8080/"
        },
        "id": "52q4BaaOsmsr",
        "outputId": "1e57eb68-7a55-44f5-f5ea-60005db82f84"
      },
      "outputs": [
        {
          "name": "stdout",
          "output_type": "stream",
          "text": [
            "[==================================================] 100.0% 387.1/387.1MB downloaded\n"
          ]
        }
      ],
      "source": [
        "glove_twitter_100_model = gensim.downloader.load(\"glove-twitter-100\")"
      ]
    },
    {
      "cell_type": "code",
      "execution_count": null,
      "metadata": {
        "colab": {
          "base_uri": "https://localhost:8080/"
        },
        "id": "Eyejx8Dusrba",
        "outputId": "266f8ac4-3021-4f2d-fa89-59d3b42e33dd"
      },
      "outputs": [
        {
          "name": "stdout",
          "output_type": "stream",
          "text": [
            "       question        answer     prediction    label\n",
            "0    enormously  tremendously   tremendously  correct\n",
            "1    provisions  stipulations  jurisdictions    wrong\n",
            "2   haphazardly      randomly        densely    wrong\n",
            "3     prominent   conspicuous     mysterious    wrong\n",
            "4        zenith      pinnacle       pinnacle  correct\n",
            "..          ...           ...            ...      ...\n",
            "75      fashion        manner          craze    wrong\n",
            "76     marketed          sold        diluted    wrong\n",
            "77       bigger        larger         larger  correct\n",
            "78        roots       origins        origins  correct\n",
            "79     normally    ordinarily    permanently    wrong\n",
            "\n",
            "[80 rows x 4 columns]\n"
          ]
        }
      ],
      "source": [
        "glove_twitter_100 = get_dataframe(glove_twitter_100_model)\n",
        "glove_twitter_100.to_csv(\"glove-twitter-100-details.csv\", index=False)\n",
        "print(glove_twitter_100)"
      ]
    },
    {
      "cell_type": "markdown",
      "metadata": {
        "id": "CGFOwa1HLvSq"
      },
      "source": [
        "## Analysis"
      ]
    },
    {
      "cell_type": "code",
      "execution_count": 10,
      "metadata": {
        "id": "PeEvjpodQI8w"
      },
      "outputs": [],
      "source": [
        "path = \"./results/\"\n",
        "models = [os.path.basename(fp).split(\".\")[0][:-len(\"-details\")] for fp in glob.glob(f\"{path}*-details.csv\")]"
      ]
    },
    {
      "cell_type": "code",
      "execution_count": 12,
      "metadata": {
        "id": "wstfCPgJHHmQ"
      },
      "outputs": [],
      "source": [
        "analysis = {\"model\": [], \"vocabulary\": [], \"correct\": [], \"answered\": [], \"accuracy\": []} \n",
        "\n",
        "for model_name in models:\n",
        "  details_file = f\"{path}{model_name}-details.csv\"\n",
        "  details = pandas.read_csv(details_file)\n",
        "\n",
        "  correct_count = len([True for label in details[\"label\"] if label == \"correct\"])\n",
        "  answered_count = len([True for label in details[\"label\"] if label != \"guess\"])\n",
        "\n",
        "  analysis[\"model\"].append(model_name)\n",
        "  analysis[\"vocabulary\"].append(int(model_name.split(\"-\")[-1]) * 10000)\n",
        "  analysis[\"correct\"].append(correct_count)\n",
        "  analysis[\"answered\"].append(answered_count)\n",
        "  analysis[\"accuracy\"].append(correct_count / answered_count if answered_count > 0 else 0)\n",
        "\n",
        "analysis = pandas.DataFrame(data=analysis)\n",
        "analysis.to_csv(f\"{path}analysis.csv\", index=False)"
      ]
    }
  ],
  "metadata": {
    "colab": {
      "collapsed_sections": [],
      "name": "MP3.ipynb",
      "provenance": []
    },
    "kernelspec": {
      "display_name": "Python 3",
      "name": "python3"
    },
    "language_info": {
      "codemirror_mode": {
        "name": "ipython",
        "version": 3
      },
      "file_extension": ".py",
      "mimetype": "text/x-python",
      "name": "python",
      "nbconvert_exporter": "python",
      "pygments_lexer": "ipython3",
      "version": "3.8.10"
    }
  },
  "nbformat": 4,
  "nbformat_minor": 0
}
